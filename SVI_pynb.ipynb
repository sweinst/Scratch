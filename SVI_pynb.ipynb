{
  "nbformat": 4,
  "nbformat_minor": 0,
  "metadata": {
    "colab": {
      "provenance": [],
      "authorship_tag": "ABX9TyMQ2u6p3fRtM27lGsYa+CpY",
      "include_colab_link": true
    },
    "kernelspec": {
      "name": "python3",
      "display_name": "Python 3"
    },
    "language_info": {
      "name": "python"
    }
  },
  "cells": [
    {
      "cell_type": "markdown",
      "metadata": {
        "id": "view-in-github",
        "colab_type": "text"
      },
      "source": [
        "<a href=\"https://colab.research.google.com/github/sweinst/Scratch/blob/main/SVI_pynb.ipynb\" target=\"_parent\"><img src=\"https://colab.research.google.com/assets/colab-badge.svg\" alt=\"Open In Colab\"/></a>"
      ]
    },
    {
      "cell_type": "code",
      "execution_count": null,
      "metadata": {
        "id": "VGjvW_U6obDZ"
      },
      "outputs": [],
      "source": []
    },
    {
      "cell_type": "markdown",
      "source": [
        "# Raw SVI\n",
        "- parameters: $\\chi_R = \\{a, b, \\rho, m, \\sigma\\} $\n",
        "- implied variance: $w(k; \\chi_R) = a + b \\{ \\rho (k-m) + \\sqrt{(k-m)^2 + \\sigma^2} \\}$\n",
        "- where:\n",
        "  - $a \\in \\mathbf{R}$\n",
        "  - $b > 0$\n",
        "  - $|\\rho| < 1$\n",
        "  - $m \\in \\mathbf{R}$\n",
        "  - $\\sigma > 0 $\n",
        "  -  $a + b \\sigma \\sqrt{1 - \\rho^2}\\} \\ge 0$"
      ],
      "metadata": {
        "id": "c2rouNjzoioM"
      }
    },
    {
      "cell_type": "markdown",
      "source": [
        "# Natural SVI parameterization\n",
        "- parameters $\\chi_N = \\{\\Delta , \\mu, \\rho, \\omega, \\zeta\\}$\n",
        "- implied variance: $w(k; \\chi_N) = \\Delta + \\frac{\\omega}{2} \\{ 1 + \\zeta \\rho (k-\\mu) + \\sqrt{(\\zeta(k-\\mu)+\\rho)^2 + (1-\\rho)^2} \\}$\n",
        "- where:\n",
        "  - $\\Delta \\in \\mathbf{R}$\n",
        "  - $\\omega > 0$\n",
        "  - $|\\rho| < 1$\n",
        "  - $\\zeta > 0 $\n",
        "  "
      ],
      "metadata": {
        "id": "vZox2Z0Mr1Ay"
      }
    },
    {
      "cell_type": "markdown",
      "source": [
        "# SVI Jump-Wings parametarisation (SVI-JW)\n",
        "- $v_t = \\frac{a+b\\{\\rho m + \\sqrt{m^2+\\sigma^2}}{t}$ => ATM variance\n",
        "- $\\psi_t = \\frac{1}{w_t}\\frac{b}{2}(-\\frac{m}{\\sqrt{m^2+\\sigma^2}}+\\rho)\\$ => ATM skew\n",
        "\n",
        "- $\\rho_t = \\frac{1}{w_t}b(1-\\rho)\\$ => slope of the left (put) wing\n",
        "\n",
        "- $c_t = \\frac{1}{w_t}b(1-\\rho)\\$ => slope of the right (call) wing\n",
        "\n",
        "- $\\tilde{v_t} = \\frac{a+b \\sigma \\sqrt{1-\\rho^2}}{t}$ => minimum implied variance"
      ],
      "metadata": {
        "id": "JI-qzKuDt2de"
      }
    },
    {
      "cell_type": "markdown",
      "source": [
        "# Surface SVI\n",
        "$$\\color{yellow}{TODO}$$"
      ],
      "metadata": {
        "id": "hbywmTrMwsQs"
      }
    }
  ]
}